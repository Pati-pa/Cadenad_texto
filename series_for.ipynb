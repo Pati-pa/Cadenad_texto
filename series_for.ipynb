{
  "nbformat": 4,
  "nbformat_minor": 0,
  "metadata": {
    "colab": {
      "provenance": [],
      "authorship_tag": "ABX9TyPmPXSLZbBYWZ321XAlDqIO",
      "include_colab_link": true
    },
    "kernelspec": {
      "name": "python3",
      "display_name": "Python 3"
    },
    "language_info": {
      "name": "python"
    }
  },
  "cells": [
    {
      "cell_type": "markdown",
      "metadata": {
        "id": "view-in-github",
        "colab_type": "text"
      },
      "source": [
        "<a href=\"https://colab.research.google.com/github/Pati-pa/Cadenad_texto/blob/main/series_for.ipynb\" target=\"_parent\"><img src=\"https://colab.research.google.com/assets/colab-badge.svg\" alt=\"Open In Colab\"/></a>"
      ]
    },
    {
      "cell_type": "markdown",
      "source": [
        "# Series usando For\n"
      ],
      "metadata": {
        "id": "uXOzBSy2FyI0"
      }
    },
    {
      "cell_type": "code",
      "execution_count": 16,
      "metadata": {
        "colab": {
          "base_uri": "https://localhost:8080/"
        },
        "id": "SC8ubXNPEH6q",
        "outputId": "b05a2568-e117-4f9b-faef-01c8200625eb"
      },
      "outputs": [
        {
          "output_type": "stream",
          "name": "stdout",
          "text": [
            "-------------------\n",
            "-----Serie 1 ------\n",
            "-------------------\n",
            "serie: {1,2,3,4,5,6,7,8,9,10}\n"
          ]
        }
      ],
      "source": [
        "#Serie 1: 1, 2, 3, 4, 5, 6, 7, 8, 9, 10\n",
        "\n",
        "print(\"-------------------\")\n",
        "print(\"-----Serie 1 ------\")\n",
        "print(\"-------------------\")\n",
        "\n",
        "s = \"serie: {\"\n",
        "for i in range(1,11):\n",
        "  s= s + str(i)\n",
        "  if i != 10:\n",
        "    s = s + \",\"\n",
        "s= s+ \"}\"\n",
        "print(s)"
      ]
    },
    {
      "cell_type": "code",
      "source": [
        "#serie 2: 1, 4, 9, 16, 25, 36, 49, 64, 81 ...\n",
        "print(\"-------------------\")\n",
        "print(\"-----Serie 1 ------\")\n",
        "print(\"-------------------\")\n",
        "\n",
        "s = \"serie: {\"\n",
        "for i in range(1,11):\n",
        "  s= s + str(i**2)\n",
        "  if i != 10:\n",
        "    s = s + \",\"\n",
        "s= s+ \"}\"\n",
        "print(s)"
      ],
      "metadata": {
        "colab": {
          "base_uri": "https://localhost:8080/"
        },
        "id": "NLcilgebI4LS",
        "outputId": "eabcc680-6e62-4674-8e59-8f2b17ead613"
      },
      "execution_count": 17,
      "outputs": [
        {
          "output_type": "stream",
          "name": "stdout",
          "text": [
            "-------------------\n",
            "-----Serie 1 ------\n",
            "-------------------\n",
            "serie: {1,4,9,16,25,36,49,64,81,100}\n"
          ]
        }
      ]
    }
  ]
}